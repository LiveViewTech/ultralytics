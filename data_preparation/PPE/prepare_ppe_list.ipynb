{
 "cells": [
  {
   "cell_type": "code",
   "execution_count": 1,
   "id": "fa91fac2-32b0-4c07-bc6b-3489bf8ec610",
   "metadata": {},
   "outputs": [],
   "source": [
    "import os\n",
    "import numpy as np \n",
    "import shutil \n",
    "import pandas as pd \n",
    "\n",
    "from PIL import Image\n",
    "import matplotlib.pyplot as plt\n",
    "import cv2 "
   ]
  },
  {
   "cell_type": "code",
   "execution_count": 3,
   "id": "e086f635-8d27-4300-8be0-637c3104cdd9",
   "metadata": {},
   "outputs": [],
   "source": [
    "root_path = '/home/wtan/Work/Datasets/PPE'\n",
    "subfolders = ['chvg-pictor.v3i.yolov8','Helmet_Vest.v1i.yolov8','AI Person Safety Equipment Detection.v5-ai_1024_res.yolov8']\n",
    "splits = ['train','valid','test']"
   ]
  },
  {
   "cell_type": "code",
   "execution_count": 9,
   "id": "f1c2cedf-467b-494b-a566-910359bb8b6b",
   "metadata": {},
   "outputs": [
    {
     "name": "stdout",
     "output_type": "stream",
     "text": [
      "chvg-pictor.v3i.yolov8 train 31141\n",
      "chvg-pictor.v3i.yolov8 valid 1212\n",
      "chvg-pictor.v3i.yolov8 test 604\n",
      "Helmet_Vest.v1i.yolov8 train 954\n",
      "Helmet_Vest.v1i.yolov8 valid 75\n",
      "Helmet_Vest.v1i.yolov8 test 42\n",
      "AI Person Safety Equipment Detection.v5-ai_1024_res.yolov8 train 1604\n",
      "AI Person Safety Equipment Detection.v5-ai_1024_res.yolov8 valid 455\n",
      "AI Person Safety Equipment Detection.v5-ai_1024_res.yolov8 test 0\n"
     ]
    }
   ],
   "source": [
    "image_list = {x:[] for x in splits} \n",
    "\n",
    "for i, fold in enumerate(subfolders):\n",
    "    ppe_path = os.path.join(root_path,fold,'PPE-Images') \n",
    "    for sp in splits:\n",
    "        split_path = os.path.join(ppe_path,sp,'images') \n",
    "        jpgs_list = os.listdir(split_path) \n",
    "\n",
    "        print(fold,sp,len(jpgs_list)) \n",
    "        \n",
    "        for j, jpg in enumerate(jpgs_list):\n",
    "            if i==3 and sp=='valid':\n",
    "                if j%2==0:\n",
    "                    image_list[sp].append(os.path.join(fold,'PPE-Images',sp,'images',jpg)) \n",
    "                else:\n",
    "                    image_list['test'].append(os.path.join(fold,'PPE-Images',sp,'images',jpg)) \n",
    "            else: \n",
    "                image_list[sp].append(os.path.join(fold,'PPE-Images',sp,'images',jpg))         \n"
   ]
  },
  {
   "cell_type": "code",
   "execution_count": 13,
   "id": "7ba1ee30-528c-4734-bf16-afe063bc8438",
   "metadata": {},
   "outputs": [],
   "source": [
    "for sp in splits:\n",
    "    fp = open(f'{sp}_list_v1.0.txt','w')\n",
    "    for l in image_list[sp]:\n",
    "        fp.write(os.path.join('../Datasets/PPE',l) +'\\n') \n",
    "    fp.close() "
   ]
  },
  {
   "cell_type": "code",
   "execution_count": 11,
   "id": "9d49dd6b-0445-41e1-bae9-52c8cc9eb2cf",
   "metadata": {},
   "outputs": [
    {
     "name": "stdout",
     "output_type": "stream",
     "text": [
      "['chvg-pictor.v3i.yolov8/PPE-Images/train/images/ppe_0442_jpg.rf.bc91c8c5bdddbbba4994bc94bbfda2b8_002.jpg', 'chvg-pictor.v3i.yolov8/PPE-Images/train/images/image_from_china-1076-_jpg.rf.4cf3ebede2ef771ab24bccd05f6c6703_002.jpg', 'chvg-pictor.v3i.yolov8/PPE-Images/train/images/image_from_china-1149-_jpg.rf.f2088c39ce27ae17aba1363ae408352e_000.jpg', 'chvg-pictor.v3i.yolov8/PPE-Images/train/images/ppe_1121_jpg.rf.71d558e6ba1e935db99bab27b5b80285_011.jpg', 'chvg-pictor.v3i.yolov8/PPE-Images/train/images/ppe_0907_jpg.rf.85f3effae2b54875971a9f0a35887f56_003.jpg']\n"
     ]
    }
   ],
   "source": [
    "print(image_list['train'][:5])"
   ]
  },
  {
   "cell_type": "code",
   "execution_count": null,
   "id": "704e241f-646c-4c40-83e1-51a7605489ac",
   "metadata": {},
   "outputs": [],
   "source": []
  }
 ],
 "metadata": {
  "kernelspec": {
   "display_name": "YOLOv8",
   "language": "python",
   "name": "yolov8"
  },
  "language_info": {
   "codemirror_mode": {
    "name": "ipython",
    "version": 3
   },
   "file_extension": ".py",
   "mimetype": "text/x-python",
   "name": "python",
   "nbconvert_exporter": "python",
   "pygments_lexer": "ipython3",
   "version": "3.10.14"
  }
 },
 "nbformat": 4,
 "nbformat_minor": 5
}
