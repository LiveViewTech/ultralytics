{
 "cells": [
  {
   "cell_type": "code",
   "execution_count": 1,
   "id": "fa91fac2-32b0-4c07-bc6b-3489bf8ec610",
   "metadata": {},
   "outputs": [],
   "source": [
    "import os\n",
    "import numpy as np \n",
    "import shutil \n",
    "import pandas as pd \n",
    "\n",
    "from PIL import Image\n",
    "import matplotlib.pyplot as plt"
   ]
  },
  {
   "cell_type": "code",
   "execution_count": 2,
   "id": "72531b16-c865-49ef-aa2c-c222f645d728",
   "metadata": {},
   "outputs": [],
   "source": [
    "root_path = '/home/wtan/Work/Datasets/PPE/chvg-pictor.v3i.yolov8/PPE-Images' \n",
    "splits = ['train','valid','test']"
   ]
  },
  {
   "cell_type": "code",
   "execution_count": 8,
   "id": "698dbbd2-e659-433a-950b-f57871b2cc3f",
   "metadata": {},
   "outputs": [],
   "source": [
    "attributes = ['# image','Helmet','Vest'] #1 is yes, 0 is no  "
   ]
  },
  {
   "cell_type": "code",
   "execution_count": 10,
   "id": "9172b8a7-cf3a-4aa7-a9e7-5b7c72748960",
   "metadata": {},
   "outputs": [],
   "source": [
    "debug = False \n",
    "\n",
    "for split in ['test','valid','train']:\n",
    "\n",
    "    df = pd.DataFrame(columns=attributes) \n",
    "    \n",
    "    imgfiles = os.listdir(os.path.join(root_path, split, 'images')) \n",
    "    imgfiles = [x for x in imgfiles if x.split('.')[-1].lower() in ['jpg','jpeg','png']] \n",
    "    imgfiles.sort()     \n",
    "    #print(len(imgfiles),imgfiles[:5]) \n",
    "\n",
    "    for f in imgfiles:\n",
    "\n",
    "        fname = os.path.splitext(f)[0]  \n",
    "        img_file = os.path.join(os.path.join(root_path, split, 'images',f))          \n",
    "\n",
    "        im = Image.open(img_file)\n",
    "        width, height = im.size\n",
    "\n",
    "        if min(width,height)<10:\n",
    "            continue \n",
    "        \n",
    "        label_file = os.path.join(os.path.join(root_path, split, 'labels',fname+'.txt'))\n",
    "        fp = open(label_file,'r')\n",
    "        labels = fp.readlines() \n",
    "        fp.close() \n",
    "        labels = [x.strip() for x in labels] \n",
    "        if debug: \n",
    "            print(\"labels = \", labels) \n",
    "\n",
    "        img_attr = [0]*2\n",
    "        \n",
    "        for i,l in enumerate(labels): \n",
    "            l = l.split(' ') \n",
    "            l = [float(x) for x in l] \n",
    "\n",
    "            if l[0]==0:\n",
    "                img_attr[0]=1 \n",
    "            elif l[0]==1:\n",
    "                img_attr[1]=1 \n",
    "\n",
    "        row = [os.path.join(split, 'images',f), img_attr[0], img_attr[1]] \n",
    "        df.loc[len(df.index)] = row \n",
    "    \n",
    "    csv_fn = os.path.join(root_path,split+'.csv') \n",
    "    df.to_csv(csv_fn, index=False) \n",
    "\n"
   ]
  },
  {
   "cell_type": "code",
   "execution_count": null,
   "id": "0b5f3d32-f061-499b-a009-303de3ada087",
   "metadata": {},
   "outputs": [],
   "source": []
  }
 ],
 "metadata": {
  "kernelspec": {
   "display_name": "YOLOv8",
   "language": "python",
   "name": "yolov8"
  },
  "language_info": {
   "codemirror_mode": {
    "name": "ipython",
    "version": 3
   },
   "file_extension": ".py",
   "mimetype": "text/x-python",
   "name": "python",
   "nbconvert_exporter": "python",
   "pygments_lexer": "ipython3",
   "version": "3.10.14"
  }
 },
 "nbformat": 4,
 "nbformat_minor": 5
}
